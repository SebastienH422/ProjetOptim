{
 "cells": [
  {
   "cell_type": "code",
   "execution_count": null,
   "metadata": {},
   "outputs": [],
   "source": [
    "import pyomo.environ as pyo\n",
    "\n",
    "class ModelesPCentre:\n",
    "    def __init__(self, data):\n",
    "        \"\"\"\n",
    "        Initialise le modèle avec les données.\n",
    "        \"\"\"\n",
    "        self.data = data\n",
    "        self.solution = None\n",
    "        self.modele = None\n",
    "\n",
    "    def creer_modele(self, capacite):\n",
    "        \"\"\"\n",
    "        Méthode virtuelle à implémenter dans les sous-classes.\n",
    "        \"\"\"\n",
    "        raise NotImplementedError\n",
    "\n",
    "    def extraire_solution(self):\n",
    "        \"\"\"\n",
    "        Méthode virtuelle à implémenter dans les sous-classes.\n",
    "        \"\"\"\n",
    "        raise NotImplementedError\n",
    "\n",
    "    def ecrire_modele(self, fichier_lp):\n",
    "        \"\"\"\n",
    "        Sauvegarde le modèle dans un fichier LP.\n",
    "        \"\"\"\n",
    "        self.modele.write(fichier_lp)\n",
    "\n",
    "    def lancer(self, temps_limite):\n",
    "        \"\"\"\n",
    "        Résout le modèle avec un solveur.\n",
    "        \"\"\"\n",
    "        solver = pyo.SolverFactory(\"highs\")  \n",
    "        solver.options[\"time_limit\"] = temps_limite  # Appliquer la limite de temps\n",
    "        \n",
    "        resultat = solver.solve(self.modele, tee=True)\n",
    "\n",
    "        if (resultat.solver.status == pyo.SolverStatus.ok) and \\\n",
    "           (resultat.solver.termination_condition == pyo.TerminationCondition.optimal):\n",
    "            print(\"Solution optimale trouvée.\")\n",
    "            self.extraire_solution()\n",
    "        else:\n",
    "            print(f\"Problème lors de la résolution : {resultat.solver.termination_condition}\")\n"
   ]
  }
 ],
 "metadata": {
  "language_info": {
   "name": "python"
  }
 },
 "nbformat": 4,
 "nbformat_minor": 2
}
