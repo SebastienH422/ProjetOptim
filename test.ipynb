{
 "cells": [
  {
   "cell_type": "code",
   "execution_count": null,
   "metadata": {},
   "outputs": [],
   "source": [
    "import pyomo.environ as pe\n",
    "from pyomo.core import quicksum\n",
    "\n",
    "class ModelesPCentre:\n",
    "    def __init__(self, path_data, path_model, name_model):\n",
    "        \"\"\"\n",
    "        Initialise le modèle avec les données.\n",
    "        \"\"\"\n",
    "        self.data = PCentreData(path_data)\n",
    "        self.path_model = path_model\n",
    "        self.name_model = name_model\n",
    "\n",
    "        self.solution = None\n",
    "        self.modele = None\n",
    "\n",
    "    def creer_modele(self, capacite):\n",
    "        \"\"\"\n",
    "        Méthode virtuelle à implémenter dans les sous-classes.\n",
    "        \"\"\"\n",
    "        raise NotImplementedError\n",
    "\n",
    "    def extraire_solution(self):\n",
    "        \"\"\"\n",
    "        Méthode virtuelle à implémenter dans les sous-classes.\n",
    "        \"\"\"\n",
    "        raise NotImplementedError\n",
    "\n",
    "    def ecrire_modele(self):\n",
    "        \"\"\"\n",
    "        Sauvegarde le modèle dans un fichier LP.\n",
    "        \"\"\"\n",
    "        self.modele.write(self.path_model)\n",
    "\n",
    "    def lancer(self, temps_limite):\n",
    "        \"\"\"\n",
    "        Résout le modèle avec un solveur.\n",
    "        \"\"\"\n",
    "        solver = pe.SolverFactory(\"highs\")  \n",
    "        solver.options[\"time_limit\"] = temps_limite  # Appliquer la limite de temps\n",
    "        \n",
    "        resultat = solver.solve(self.modele, tee=True)\n",
    "\n",
    "        if (resultat.solver.status == pe.SolverStatus.ok) and \\\n",
    "           (resultat.solver.termination_condition == pe.TerminationCondition.optimal):\n",
    "            print(\"Solution optimale trouvée.\")\n",
    "            self.extraire_solution()\n",
    "        else:\n",
    "            print(f\"Problème lors de la résolution : {resultat.solver.termination_condition}\")\n"
   ]
  }
 ],
 "metadata": {
  "language_info": {
   "name": "python"
  }
 },
 "nbformat": 4,
 "nbformat_minor": 2
}
